{
 "cells": [
  {
   "cell_type": "markdown",
   "metadata": {},
   "source": [
    "<div style=\"color:white;background-color:#0B244E;padding:20px;width:100%\">\n",
    "<img src=\"https://www.eseg.edu.br/assets/dist/assets/images/logo/136x136.svg\" style=\"\"></img>\n",
    "</div>\n",
    "<div style=\"color:white;background-color:#0B244E;padding:20px;width:100%;border-top: 1px solid white\">\n",
    "Data Science 1 / Prof. Fernando Pablos\n",
    "</div>"
   ]
  },
  {
   "cell_type": "markdown",
   "metadata": {},
   "source": [
    "<h1>Análise Exploratória e limpeza de dados (EDA)</h1>\n",
    "\n",
    "<p>Como já falado na parte teórica, nem sempre nossos dados chegam para nós da forma ideal, para isso precisamos explorá-los e, se necessário, corrigí-los antes de realizarmos nossas análises.</p>\n",
    "<p>Vamos começar carregando nossos dados como já aprendemos em aulas anteriores:</p>\n",
    "\n",
    "\n"
   ]
  },
  {
   "cell_type": "code",
   "execution_count": null,
   "metadata": {},
   "outputs": [],
   "source": [
    "import pandas as pd\n",
    "\n",
    "df = pd.read_excel('eda.xlsx')\n",
    "df.head()"
   ]
  },
  {
   "cell_type": "markdown",
   "metadata": {},
   "source": [
    "<p>Podemos observar alguns problemas no nome de nossas colunas... veja, dt1, dt5 e dt30, o que será que são essas colunas?</p>\n",
    "<p style=\"color:red\">dt1 parece ser o nome da empresa, dt5 sua área de atuação e dt30 seu endereço, vamos corrigir.</p>"
   ]
  },
  {
   "cell_type": "code",
   "execution_count": null,
   "metadata": {},
   "outputs": [],
   "source": [
    "df = df.rename(columns={'dt1': 'Nome da empresa', 'dt5': 'Área de Atuação', 'dt30': 'Endereço'})\n",
    "df.head()"
   ]
  },
  {
   "cell_type": "code",
   "execution_count": null,
   "metadata": {},
   "outputs": [],
   "source": [
    "df.info()"
   ]
  },
  {
   "cell_type": "markdown",
   "metadata": {},
   "source": [
    "<p style=\"color:red;\">Existem algumas células vazias, o que será que podemos fazer com elas? Temos algumas alternativas.</p>\n"
   ]
  },
  {
   "cell_type": "code",
   "execution_count": null,
   "metadata": {},
   "outputs": [],
   "source": [
    "#Para as células categóricas, podemos substituir pela moda\n",
    "area_atuacao_moda = df['Área de Atuação'].mode()\n",
    "df['Área de Atuação'] = df['Área de Atuação'].fillna(area_atuacao_moda[0])\n",
    "\n",
    "\n",
    "tipo_moda = df['Tipo:'].mode()\n",
    "df['Tipo:'] = df['Tipo:'].fillna(tipo_moda[0])\n",
    "\n",
    "#Para as células numéricas, podemos pegar a mediana\n",
    "\n",
    "lucro_mediana = df['Lucro Líquido Arredondado (R$)'].median()\n",
    "df['Lucro Líquido Arredondado (R$)'] = df['Lucro Líquido Arredondado (R$)'].fillna(lucro_mediana)\n",
    "\n",
    "ano_mediana = df['Ano de Fundação'].median()\n",
    "df['Ano de Fundação'] = df['Ano de Fundação'].fillna(ano_mediana)\n",
    "\n",
    "df.info()\n",
    "\n"
   ]
  },
  {
   "cell_type": "markdown",
   "metadata": {},
   "source": [
    "<p>Tudo corrigido!</p>\n",
    "<h2>Analisando dados categóricos</h2> "
   ]
  },
  {
   "cell_type": "markdown",
   "metadata": {},
   "source": [
    "<p>Um jeito interessante de analisar dados categóricos, é observar a contagem  e também gráficos de barras.</p>"
   ]
  },
  {
   "cell_type": "code",
   "execution_count": null,
   "metadata": {},
   "outputs": [],
   "source": [
    "#Vamos começar analisando o nome das empresas\n",
    "\n",
    "grupo_nome_empresa = df.groupby(['Nome da empresa']).size()\n",
    "print(grupo_nome_empresa) #Visão de relatório\n",
    "grupo_nome_empresa.plot.bar() #Visão de gráfico"
   ]
  },
  {
   "cell_type": "markdown",
   "metadata": {},
   "source": [
    "<p style=\"color:red\">Podemos observar que algumas empresas estão sendo repetidas duas ou mais vezes, isso é um problema</p>"
   ]
  },
  {
   "cell_type": "code",
   "execution_count": null,
   "metadata": {},
   "outputs": [],
   "source": [
    "#Irá nos mostrar os registros duplicados\n",
    "df[df.duplicated(['Nome da empresa'])]"
   ]
  },
  {
   "cell_type": "code",
   "execution_count": null,
   "metadata": {},
   "outputs": [],
   "source": [
    "#Excluindo os duplicados, mantendo o primeiro registro\n",
    "\n",
    "df = df.drop_duplicates(subset=\"Nome da empresa\", keep='first')\n",
    "\n",
    "#Mostrando novamente se ainda há registros duplicados\n",
    "df[df.duplicated(['Nome da empresa'])]"
   ]
  },
  {
   "cell_type": "code",
   "execution_count": null,
   "metadata": {},
   "outputs": [],
   "source": [
    "#Vamos ver agora os bairros, se há algo errado\n",
    "grupo_bairro = df.groupby(['bairro']).size()\n",
    "print(grupo_bairro)\n",
    "grupo_bairro.plot.bar()"
   ]
  },
  {
   "cell_type": "markdown",
   "metadata": {},
   "source": [
    "Parece estar tudo bem com essa coluna. Podemos ter várias empresas no mesmo bairro."
   ]
  },
  {
   "cell_type": "code",
   "execution_count": null,
   "metadata": {},
   "outputs": [],
   "source": [
    "#Vamos ver a área de atuação da empresa\n",
    "\n",
    "grupo_atuacao = df.groupby('Área de Atuação').size()\n",
    "print(grupo_atuacao)\n",
    "grupo_atuacao.plot.bar()"
   ]
  },
  {
   "cell_type": "markdown",
   "metadata": {},
   "source": [
    "<p style=\"color:red\">A área de atuação 'Teste' parece ser um erro de cadastro.</p>"
   ]
  },
  {
   "cell_type": "code",
   "execution_count": null,
   "metadata": {},
   "outputs": [],
   "source": [
    "#Não vamos manter esses dados, pois podem impactar na análise erroneamente\n",
    "df = df[df['Área de Atuação'] != 'Teste']\n",
    "\n",
    "#Vamos ver agora se ainda aparecem:\n",
    "\n",
    "grupo_atuacao = df.groupby('Área de Atuação').size()\n",
    "print(grupo_atuacao)\n",
    "grupo_atuacao.plot.bar()"
   ]
  },
  {
   "cell_type": "markdown",
   "metadata": {},
   "source": [
    "Problema resolvido!"
   ]
  },
  {
   "cell_type": "code",
   "execution_count": null,
   "metadata": {},
   "outputs": [],
   "source": [
    "#Vamos observar os CNPJ's\n",
    "\n",
    "grupo_cnpj = df.groupby('cnpj').size()\n",
    "print(grupo_cnpj)\n",
    "grupo_cnpj.plot.bar()"
   ]
  },
  {
   "cell_type": "markdown",
   "metadata": {},
   "source": [
    "Não temos CNPJ's repetidos, então não precisamos tratar essa coluna."
   ]
  },
  {
   "cell_type": "code",
   "execution_count": null,
   "metadata": {},
   "outputs": [],
   "source": [
    "#Vamos ver os estados\n",
    "\n",
    "grupo_estado = df.groupby('Estado').size()\n",
    "print(grupo_estado)\n",
    "grupo_estado.plot.bar()"
   ]
  },
  {
   "cell_type": "markdown",
   "metadata": {},
   "source": [
    "<p style=\"color:red\">Os estados XX e ZZ não existem.</p>"
   ]
  },
  {
   "cell_type": "code",
   "execution_count": null,
   "metadata": {},
   "outputs": [],
   "source": [
    "#Para resolver, vamos filtrar usando o pandas, removendo esses dados\n",
    "\n",
    "df = df[(df['Estado'] != 'XX') & (df['Estado'] != 'ZZ')]\n",
    "\n",
    "#E observamos se o problema persiste\n",
    "grupo_estado = df.groupby('Estado').size()\n",
    "print(grupo_estado)\n",
    "grupo_estado.plot.bar()"
   ]
  },
  {
   "cell_type": "markdown",
   "metadata": {},
   "source": [
    "Resolvido!"
   ]
  },
  {
   "cell_type": "code",
   "execution_count": null,
   "metadata": {},
   "outputs": [],
   "source": [
    "#Vamos ver os tipos\n",
    "\n",
    "grupo_tipo = df.groupby('Tipo:').size()\n",
    "print(grupo_tipo)\n",
    "grupo_tipo.plot.bar()"
   ]
  },
  {
   "cell_type": "markdown",
   "metadata": {},
   "source": [
    "<p style=\"color:red\">Temos tipos que deveriam ser o mesmo com nomes diferentes</p>"
   ]
  },
  {
   "cell_type": "code",
   "execution_count": null,
   "metadata": {},
   "outputs": [],
   "source": [
    "# Vamos localizar esses registros e substituí-los, para padronizarmos \n",
    "# nossos dados\n",
    "\n",
    "df['Tipo:'] = df['Tipo:'].replace({\n",
    "    'Lemitada': 'Ltda',\n",
    "    'Limitada': 'Ltda',\n",
    "    'Microempreendedor Individual': 'MEI',\n",
    "    'Sociedade Anônima': 'SA'\n",
    "})\n",
    "\n",
    "#Vamos ver se deu certo\n",
    "grupo_tipo = df.groupby('Tipo:').size()\n",
    "print(grupo_tipo)\n",
    "grupo_tipo.plot.bar()"
   ]
  },
  {
   "cell_type": "markdown",
   "metadata": {},
   "source": [
    "<h2>Analisando dados numéricos</h2> "
   ]
  },
  {
   "cell_type": "code",
   "execution_count": null,
   "metadata": {},
   "outputs": [],
   "source": [
    "import seaborn as sns\n",
    "pd.set_option('display.float_format', '{:.2f}'.format)  # Desativando a notação científica\n",
    "#Vamos analisar o lucro líquido acumulado\n",
    "\n",
    "df['Lucro Líquido Arredondado (R$)'].describe()\n"
   ]
  },
  {
   "cell_type": "markdown",
   "metadata": {},
   "source": [
    "<p style=\"color: red\">O mínimo parece ser muito baixo e o máximo muito alto, podemos verificar pontualmente esses valores e ver se não há mais casos.</p>"
   ]
  },
  {
   "cell_type": "code",
   "execution_count": null,
   "metadata": {},
   "outputs": [],
   "source": [
    "sns.boxplot(df['Lucro Líquido Arredondado (R$)'])"
   ]
  },
  {
   "cell_type": "code",
   "execution_count": null,
   "metadata": {},
   "outputs": [],
   "source": [
    "sns.histplot(df['Lucro Líquido Arredondado (R$)'])"
   ]
  },
  {
   "cell_type": "code",
   "execution_count": null,
   "metadata": {},
   "outputs": [],
   "source": [
    "#Observamos que existem valores exagerados, vamos tentar removê-los\n",
    "\n",
    "df = df[(df['Lucro Líquido Arredondado (R$)'] < 1000000000)]\n",
    "\n",
    "sns.boxplot(df['Lucro Líquido Arredondado (R$)'])\n"
   ]
  },
  {
   "cell_type": "code",
   "execution_count": null,
   "metadata": {},
   "outputs": [],
   "source": [
    "#Ainda parece que temos um valor exagerado negativo, vamos removê-lo também\n",
    "df = df[df['Lucro Líquido Arredondado (R$)'] > -10000000]\n",
    "\n",
    "sns.boxplot(df['Lucro Líquido Arredondado (R$)'])"
   ]
  },
  {
   "cell_type": "markdown",
   "metadata": {},
   "source": [
    "Aparentemente nossos dados estão corretos agora."
   ]
  },
  {
   "cell_type": "code",
   "execution_count": null,
   "metadata": {},
   "outputs": [],
   "source": [
    "sns.histplot(df['Lucro Líquido Arredondado (R$)'])"
   ]
  },
  {
   "cell_type": "markdown",
   "metadata": {},
   "source": [
    "Vamos ver se para o ano há algum problema"
   ]
  },
  {
   "cell_type": "code",
   "execution_count": null,
   "metadata": {},
   "outputs": [],
   "source": [
    "df['Ano de Fundação'].describe()"
   ]
  },
  {
   "cell_type": "code",
   "execution_count": null,
   "metadata": {},
   "outputs": [],
   "source": [
    "sns.histplot(df['Ano de Fundação'])"
   ]
  },
  {
   "cell_type": "code",
   "execution_count": null,
   "metadata": {},
   "outputs": [],
   "source": [
    "sns.boxplot(df['Ano de Fundação'])"
   ]
  },
  {
   "cell_type": "markdown",
   "metadata": {},
   "source": [
    "<p style=\"color: red\">Bom, considerando que nossa base seja de um sistema atual, parece estranho ter empresas fundadadas antes dos anos 1800 e também não chegamos no ano 2900. Vamos remover.</p>"
   ]
  },
  {
   "cell_type": "code",
   "execution_count": null,
   "metadata": {},
   "outputs": [],
   "source": [
    "df = df[(df['Ano de Fundação'] >= 1800) & (df['Ano de Fundação'] <= 2025)]\n",
    "sns.histplot(df['Ano de Fundação'])"
   ]
  },
  {
   "cell_type": "code",
   "execution_count": null,
   "metadata": {},
   "outputs": [],
   "source": [
    "sns.boxplot(df['Ano de Fundação'])"
   ]
  },
  {
   "cell_type": "markdown",
   "metadata": {},
   "source": [
    "Para encerrar, vamos ver se há alguma correlação entre o ano de fundação e o lucro líquido e identificar se há outliers"
   ]
  },
  {
   "cell_type": "code",
   "execution_count": null,
   "metadata": {},
   "outputs": [],
   "source": [
    "sns.scatterplot(data=df, x=df['Ano de Fundação'], y=df['Lucro Líquido Arredondado (R$)'])"
   ]
  },
  {
   "cell_type": "code",
   "execution_count": null,
   "metadata": {},
   "outputs": [],
   "source": [
    "#Vamos analisar uma matriz de correlação também\n",
    "df_correlacao = df[['Lucro Líquido Arredondado (R$)', 'Ano de Fundação']]\n",
    "correlacao = df_correlacao.corr()\n",
    "display(correlacao)"
   ]
  },
  {
   "cell_type": "code",
   "execution_count": null,
   "metadata": {},
   "outputs": [],
   "source": [
    "import matplotlib.pyplot as plt\n",
    "import seaborn as sns\n",
    "\n",
    "plt.figure(figsize=(8, 6))\n",
    "sns.heatmap(\n",
    "    correlacao,\n",
    "    annot=True,       # Mostra os valores dentro dos quadrados\n",
    "    cmap='coolwarm',  # Paleta de cores (azul/vermelho)\n",
    "    vmin=-1,          # Valor mínimo da escala\n",
    "    vmax=1,           # Valor máximo da escala\n",
    "    linewidths=0.5\n",
    ")\n",
    "plt.title('Matriz de Correlação')\n",
    "plt.show()"
   ]
  },
  {
   "cell_type": "markdown",
   "metadata": {},
   "source": [
    "Não há correlação e, portanto, não conseguimos identificar outliers.\n",
    "\n",
    "<p style=\"color: green\">Agora nossa base está limpa para realizarmos as análises, ou para darmos início ao aprendizado de máquina.</p>"
   ]
  }
 ],
 "metadata": {
  "kernelspec": {
   "display_name": "base",
   "language": "python",
   "name": "python3"
  },
  "language_info": {
   "codemirror_mode": {
    "name": "ipython",
    "version": 3
   },
   "file_extension": ".py",
   "mimetype": "text/x-python",
   "name": "python",
   "nbconvert_exporter": "python",
   "pygments_lexer": "ipython3",
   "version": "3.12.7"
  }
 },
 "nbformat": 4,
 "nbformat_minor": 2
}
